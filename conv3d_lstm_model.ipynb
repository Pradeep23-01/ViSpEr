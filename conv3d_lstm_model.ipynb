{
 "cells": [
  {
   "cell_type": "code",
   "execution_count": 1,
   "source": [
    "import numpy as np\r\n",
    "import os\r\n",
    "import imutils\r\n",
    "import dlib\r\n",
    "import cv2\r\n",
    "\r\n",
    "import imageio\r\n",
    "from imutils import face_utils\r\n",
    "\r\n",
    "\r\n",
    "import time\r\n",
    "import os"
   ],
   "outputs": [],
   "metadata": {}
  },
  {
   "cell_type": "code",
   "execution_count": 2,
   "source": [
    "people = ['F01','F02','F04','F05','F06','F07','F08','F09','F10','F11','M01','M02','M04','M07','M08']\r\n",
    "folder_enum = ['01','02','03','04','05','06','07','08', '09', '10']\r\n",
    "instances = ['01','02','03','04','05','06','07','08', '09', '10']\r\n",
    "data_types = ['words']\r\n",
    "words = ['Begin', 'Choose', 'Connection', 'Navigation', 'Next', 'Previous', 'Start', 'Stop', 'Hello', 'Web']\r\n",
    "\r\n",
    "import pickle\r\n",
    "\r\n",
    "from keras.utils import np_utils, generic_utils\r\n",
    "\r\n",
    "# WITH ONE HOT ENCODING \r\n",
    "\r\n",
    "with open('pickle_train_test_ohe/X_train.pkl', 'rb') as f:\r\n",
    "   X_train = pickle.load(f)\r\n",
    "\r\n",
    "with open('pickle_train_test_ohe/y_train.pkl', 'rb') as f:\r\n",
    "   y_train = pickle.load(f)\r\n",
    "\r\n",
    "with open('pickle_train_test_ohe/X_test.pkl', 'rb') as f:\r\n",
    "   X_test = pickle.load(f)\r\n",
    "\r\n",
    "with open('pickle_train_test_ohe/y_test.pkl', 'rb') as f:\r\n",
    "   y_test = pickle.load(f)\r\n",
    "\r\n",
    "with open('pickle_train_test_ohe/X_val.pkl', 'rb') as f:\r\n",
    "   X_val = pickle.load(f)\r\n",
    "\r\n",
    "with open('pickle_train_test_ohe/y_val.pkl', 'rb') as f:\r\n",
    "   y_val = pickle.load(f)\r\n",
    "\r\n",
    "# WITHOUT ONE HOT ENCODING \r\n",
    "\"\"\"\r\n",
    "with open('pickle_train_test/X_train.pkl', 'rb') as f:\r\n",
    "   X_train = pickle.load(f)\r\n",
    "\r\n",
    "with open('pickle_train_test/y_train.pkl', 'rb') as f:\r\n",
    "   y_train = pickle.load(f)\r\n",
    "\r\n",
    "with open('pickle_train_test/X_test.pkl', 'rb') as f:\r\n",
    "   X_test = pickle.load(f)\r\n",
    "\r\n",
    "with open('pickle_train_test/y_test.pkl', 'rb') as f:\r\n",
    "   y_test = pickle.load(f)\r\n",
    "\r\n",
    "with open('pickle_train_test/X_val.pkl', 'rb') as f:\r\n",
    "   X_val = pickle.load(f)\r\n",
    "\r\n",
    "with open('pickle_train_test/y_val.pkl', 'rb') as f:\r\n",
    "   y_val = pickle.load(f)\r\n",
    "\"\"\"\r\n",
    "\r\n",
    "print(X_train.shape)\r\n",
    "print(y_train.shape)\r\n",
    "print(X_test.shape)\r\n",
    "print(y_test.shape)\r\n",
    "print(X_val.shape)\r\n",
    "print(y_val.shape)"
   ],
   "outputs": [
    {
     "output_type": "stream",
     "name": "stdout",
     "text": [
      "(1200, 22, 100, 100, 1)\n",
      "(1200, 10)\n",
      "(150, 22, 100, 100, 1)\n",
      "(150, 10)\n",
      "(150, 22, 100, 100, 1)\n",
      "(150, 10)\n"
     ]
    }
   ],
   "metadata": {}
  },
  {
   "cell_type": "code",
   "execution_count": 3,
   "source": [
    "X_train[0].shape"
   ],
   "outputs": [
    {
     "output_type": "execute_result",
     "data": {
      "text/plain": [
       "(22, 100, 100, 1)"
      ]
     },
     "metadata": {},
     "execution_count": 3
    }
   ],
   "metadata": {}
  },
  {
   "cell_type": "code",
   "execution_count": 4,
   "source": [
    "y_train.shape"
   ],
   "outputs": [
    {
     "output_type": "execute_result",
     "data": {
      "text/plain": [
       "(1200, 10)"
      ]
     },
     "metadata": {},
     "execution_count": 4
    }
   ],
   "metadata": {}
  },
  {
   "cell_type": "code",
   "execution_count": 5,
   "source": [
    "\"\"\"from sklearn.preprocessing import LabelEncoder\r\n",
    "le = LabelEncoder()\r\n",
    "le.fit(y_train)\r\n",
    "y_train_enc = le.transform(y_train)\r\n",
    "#y_test_enc = le.transform(y_test)\"\"\""
   ],
   "outputs": [
    {
     "output_type": "execute_result",
     "data": {
      "text/plain": [
       "'from sklearn.preprocessing import LabelEncoder\\nle = LabelEncoder()\\nle.fit(y_train)\\ny_train_enc = le.transform(y_train)\\n#y_test_enc = le.transform(y_test)'"
      ]
     },
     "metadata": {},
     "execution_count": 5
    }
   ],
   "metadata": {}
  },
  {
   "cell_type": "code",
   "execution_count": 6,
   "source": [
    "from tensorflow.keras.layers import Conv3D, MaxPooling3D\r\n",
    "from tensorflow.keras.layers import Dense, Dropout, Flatten\r\n",
    "from tensorflow.keras.models import Sequential\r\n",
    "from tensorflow.keras.layers import Activation, ZeroPadding3D, TimeDistributed, LSTM, GRU, Reshape\r\n",
    "from tensorflow.keras.utils import plot_model\r\n",
    "from tensorflow.keras.layers import BatchNormalization\r\n",
    "import matplotlib.pyplot as plt\r\n",
    "\r\n",
    "from tensorflow import keras\r\n"
   ],
   "outputs": [],
   "metadata": {}
  },
  {
   "cell_type": "code",
   "execution_count": 7,
   "source": [
    "y_train[0]"
   ],
   "outputs": [
    {
     "output_type": "execute_result",
     "data": {
      "text/plain": [
       "array([0., 0., 0., 0., 1., 0., 0., 0., 0., 0.])"
      ]
     },
     "metadata": {},
     "execution_count": 7
    }
   ],
   "metadata": {}
  },
  {
   "cell_type": "code",
   "execution_count": 8,
   "source": [
    "\"\"\"from keras.utils import to_categorical\r\n",
    "\r\n",
    "y_train_1 = to_categorical(y_train,num_classes = 10, dtype =\"float32\")\r\n",
    "\"\"\""
   ],
   "outputs": [
    {
     "output_type": "execute_result",
     "data": {
      "text/plain": [
       "'from keras.utils import to_categorical\\n\\ny_train_1 = to_categorical(y_train,num_classes = 10, dtype =\"float32\")\\n'"
      ]
     },
     "metadata": {},
     "execution_count": 8
    }
   ],
   "metadata": {}
  },
  {
   "cell_type": "code",
   "execution_count": 9,
   "source": [
    "#y_train_1.dtype"
   ],
   "outputs": [],
   "metadata": {}
  },
  {
   "cell_type": "code",
   "execution_count": 10,
   "source": [
    "#CNN + LSTM\r\n",
    "\r\n",
    "model = Sequential()\r\n",
    "\r\n",
    "# 1st layer group\r\n",
    "model.add(Conv3D(32, (3, 3, 3), strides = 1, input_shape=(22, 100, 100, 1), activation='relu', padding='valid'))\r\n",
    "\r\n",
    "model.add(MaxPooling3D(pool_size=(2, 2, 2), strides=2))\r\n",
    "\r\n",
    "model.add(Conv3D(64, (3, 3, 3), activation='relu', strides=1))\r\n",
    "model.add(MaxPooling3D(pool_size=(2, 2, 2), strides=2))\r\n",
    "\r\n",
    "model.add(Conv3D(128, (3, 3, 3), activation='relu', strides=1))\r\n",
    "model.add(MaxPooling3D(pool_size=(2, 2, 2), strides=2))\r\n",
    "\r\n",
    "model.add(Reshape((128, 1*10*10)))  \r\n",
    "\r\n",
    "# LSTMS - Recurrent Network Layer\r\n",
    "model.add(LSTM(32, return_sequences=True))\r\n",
    "model.add(Dropout(.5))\r\n",
    "\r\n",
    "model.add((Flatten()))\r\n",
    "\r\n",
    "# # FC layers group\r\n",
    "model.add(Dense(2048, activation='relu'))\r\n",
    "model.add(Dropout(.5))\r\n",
    "model.add(Dense(1024, activation='relu'))\r\n",
    "model.add(Dropout(.5))\r\n",
    "\r\n",
    "model.add(Dense(10, activation='softmax'))\r\n",
    "\r\n",
    "model.compile(loss='categorical_crossentropy', optimizer='adam', metrics=['accuracy'])\r\n",
    "\r\n",
    "model.summary()\r\n",
    "\r\n"
   ],
   "outputs": [
    {
     "output_type": "stream",
     "name": "stdout",
     "text": [
      "Model: \"sequential\"\n",
      "_________________________________________________________________\n",
      "Layer (type)                 Output Shape              Param #   \n",
      "=================================================================\n",
      "conv3d (Conv3D)              (None, 20, 98, 98, 32)    896       \n",
      "_________________________________________________________________\n",
      "max_pooling3d (MaxPooling3D) (None, 10, 49, 49, 32)    0         \n",
      "_________________________________________________________________\n",
      "conv3d_1 (Conv3D)            (None, 8, 47, 47, 64)     55360     \n",
      "_________________________________________________________________\n",
      "max_pooling3d_1 (MaxPooling3 (None, 4, 23, 23, 64)     0         \n",
      "_________________________________________________________________\n",
      "conv3d_2 (Conv3D)            (None, 2, 21, 21, 128)    221312    \n",
      "_________________________________________________________________\n",
      "max_pooling3d_2 (MaxPooling3 (None, 1, 10, 10, 128)    0         \n",
      "_________________________________________________________________\n",
      "reshape (Reshape)            (None, 128, 100)          0         \n",
      "_________________________________________________________________\n",
      "lstm (LSTM)                  (None, 128, 32)           17024     \n",
      "_________________________________________________________________\n",
      "dropout (Dropout)            (None, 128, 32)           0         \n",
      "_________________________________________________________________\n",
      "flatten (Flatten)            (None, 4096)              0         \n",
      "_________________________________________________________________\n",
      "dense (Dense)                (None, 2048)              8390656   \n",
      "_________________________________________________________________\n",
      "dropout_1 (Dropout)          (None, 2048)              0         \n",
      "_________________________________________________________________\n",
      "dense_1 (Dense)              (None, 1024)              2098176   \n",
      "_________________________________________________________________\n",
      "dropout_2 (Dropout)          (None, 1024)              0         \n",
      "_________________________________________________________________\n",
      "dense_2 (Dense)              (None, 10)                10250     \n",
      "=================================================================\n",
      "Total params: 10,793,674\n",
      "Trainable params: 10,793,674\n",
      "Non-trainable params: 0\n",
      "_________________________________________________________________\n"
     ]
    }
   ],
   "metadata": {}
  },
  {
   "cell_type": "code",
   "execution_count": 11,
   "source": [
    "'''import visualkeras\r\n",
    "from PIL import ImageFont\r\n",
    "\r\n",
    "font = ImageFont.truetype(\"arial.ttf\", 28, encoding=\"unic\")'''"
   ],
   "outputs": [
    {
     "output_type": "execute_result",
     "data": {
      "text/plain": [
       "'import visualkeras\\nfrom PIL import ImageFont\\n\\nfont = ImageFont.truetype(\"arial.ttf\", 28, encoding=\"unic\")'"
      ]
     },
     "metadata": {},
     "execution_count": 11
    }
   ],
   "metadata": {}
  },
  {
   "cell_type": "code",
   "execution_count": 12,
   "source": [
    "#visualkeras.layered_view(model, legend=True, font=font) "
   ],
   "outputs": [],
   "metadata": {}
  },
  {
   "cell_type": "code",
   "execution_count": 13,
   "source": [
    "#plot_model(model, to_file='Vis_speech_model_plot.png', show_shapes=True, show_layer_names=True)\r\n"
   ],
   "outputs": [],
   "metadata": {}
  },
  {
   "cell_type": "code",
   "execution_count": 14,
   "source": [
    "from tensorflow.keras.callbacks import EarlyStopping\r\n",
    "\r\n",
    "early_stop = EarlyStopping(monitor=\"val_loss\", patience=4)\r\n",
    "\r\n",
    "t1 = time.time()\r\n",
    "history = model.fit(X_train,y_train, validation_data=(X_val, y_val), epochs=35)\r\n",
    "t2 = time.time()\r\n",
    "print()\r\n",
    "print(f\"Training time : {t2 - t1} secs.\")\r\n"
   ],
   "outputs": [
    {
     "output_type": "stream",
     "name": "stdout",
     "text": [
      "Epoch 1/35\n",
      "38/38 [==============================] - 975s 26s/step - loss: 2.3174 - accuracy: 0.0620 - val_loss: 2.2953 - val_accuracy: 0.1000\n",
      "Epoch 2/35\n"
     ]
    }
   ],
   "metadata": {}
  },
  {
   "cell_type": "code",
   "execution_count": null,
   "source": [
    "\"\"\"Training and validation accuracy\"\"\"\r\n",
    "\r\n",
    "# Plot training & validation accuracy values\r\n",
    "plt.plot(history.history['accuracy'])\r\n",
    "plt.plot(history.history['val_accuracy'])\r\n",
    "plt.title('Model accuracy')\r\n",
    "plt.ylabel('Accuracy')\r\n",
    "plt.xlabel('Epoch')\r\n",
    "plt.legend(['Train', 'Validation'], loc='upper left')\r\n",
    "plt.show()\r\n",
    "\r\n",
    "# Plot training & validation loss values\r\n",
    "plt.plot(history.history['loss'])\r\n",
    "plt.plot(history.history['val_loss'])\r\n",
    "plt.title('Model loss')\r\n",
    "plt.ylabel('Loss')\r\n",
    "plt.xlabel('Epoch')\r\n",
    "#plt.xlim(1, 15)\r\n",
    "# plt.ylim(0, 3)\r\n",
    "plt.legend(['Train', 'Validation'], loc='upper left')\r\n",
    "plt.show()\r\n",
    "\r\n"
   ],
   "outputs": [
    {
     "output_type": "error",
     "ename": "Error",
     "evalue": "Kernel is dead",
     "traceback": [
      "Error: Kernel is dead",
      "at g._sendKernelShellControl (c:\\Users\\mprad\\.vscode\\extensions\\ms-toolsai.jupyter-2021.8.1054968649\\out\\client\\extension.js:52:852938)",
      "at g.sendShellMessage (c:\\Users\\mprad\\.vscode\\extensions\\ms-toolsai.jupyter-2021.8.1054968649\\out\\client\\extension.js:52:852707)",
      "at g.requestExecute (c:\\Users\\mprad\\.vscode\\extensions\\ms-toolsai.jupyter-2021.8.1054968649\\out\\client\\extension.js:52:855249)",
      "at d.requestExecute (c:\\Users\\mprad\\.vscode\\extensions\\ms-toolsai.jupyter-2021.8.1054968649\\out\\client\\extension.js:37:313885)",
      "at w.requestExecute (c:\\Users\\mprad\\.vscode\\extensions\\ms-toolsai.jupyter-2021.8.1054968649\\out\\client\\extension.js:24:134487)",
      "at w.executeCodeCell (c:\\Users\\mprad\\.vscode\\extensions\\ms-toolsai.jupyter-2021.8.1054968649\\out\\client\\extension.js:90:319834)",
      "at w.execute (c:\\Users\\mprad\\.vscode\\extensions\\ms-toolsai.jupyter-2021.8.1054968649\\out\\client\\extension.js:90:319389)",
      "at w.start (c:\\Users\\mprad\\.vscode\\extensions\\ms-toolsai.jupyter-2021.8.1054968649\\out\\client\\extension.js:90:315205)",
      "at runMicrotasks (<anonymous>)",
      "at processTicksAndRejections (internal/process/task_queues.js:93:5)",
      "at async t.CellExecutionQueue.executeQueuedCells (c:\\Users\\mprad\\.vscode\\extensions\\ms-toolsai.jupyter-2021.8.1054968649\\out\\client\\extension.js:90:329732)",
      "at async t.CellExecutionQueue.start (c:\\Users\\mprad\\.vscode\\extensions\\ms-toolsai.jupyter-2021.8.1054968649\\out\\client\\extension.js:90:329272)"
     ]
    }
   ],
   "metadata": {}
  },
  {
   "cell_type": "code",
   "execution_count": null,
   "source": [
    "model.save('complete_saved_model_35e')\r\n"
   ],
   "outputs": [
    {
     "output_type": "stream",
     "name": "stderr",
     "text": [
      "WARNING:absl:Found untraced functions such as lstm_cell_3_layer_call_fn, lstm_cell_3_layer_call_and_return_conditional_losses, lstm_cell_3_layer_call_fn, lstm_cell_3_layer_call_and_return_conditional_losses, lstm_cell_3_layer_call_and_return_conditional_losses while saving (showing 5 of 5). These functions will not be directly callable after loading.\n",
      "WARNING:absl:Found untraced functions such as lstm_cell_3_layer_call_fn, lstm_cell_3_layer_call_and_return_conditional_losses, lstm_cell_3_layer_call_fn, lstm_cell_3_layer_call_and_return_conditional_losses, lstm_cell_3_layer_call_and_return_conditional_losses while saving (showing 5 of 5). These functions will not be directly callable after loading.\n"
     ]
    },
    {
     "output_type": "stream",
     "name": "stdout",
     "text": [
      "INFO:tensorflow:Assets written to: complete_saved_model_30e\\assets\n"
     ]
    },
    {
     "output_type": "stream",
     "name": "stderr",
     "text": [
      "INFO:tensorflow:Assets written to: complete_saved_model_30e\\assets\n"
     ]
    }
   ],
   "metadata": {}
  },
  {
   "cell_type": "code",
   "execution_count": null,
   "source": [
    "\"\"\"#CNN + LSTM\r\n",
    "\r\n",
    "model = Sequential()\r\n",
    "\r\n",
    "#model.add(Flatten(input_shape=(X_train.shape)))\r\n",
    "# 1st layer group\r\n",
    "model.add(Conv3D(32, (3, 3, 3), strides = 1, input_shape=(22, 100, 100, 1), activation='relu', padding='valid'))\r\n",
    "#model.add(Conv3D(32, (3, 3, 3), strides = 1,input_shape= X_train.shape, activation='relu', padding='valid'))\r\n",
    "\r\n",
    "model.add(MaxPooling3D(pool_size=(2, 2, 2), strides=2))\r\n",
    "\r\n",
    "model.add(Conv3D(64, (3, 3, 3), activation='relu', strides=1))\r\n",
    "model.add(MaxPooling3D(pool_size=(2, 2, 2), strides=2))\r\n",
    "\r\n",
    "model.add(Conv3D(128, (3, 3, 3), activation='relu', strides=1))\r\n",
    "model.add(MaxPooling3D(pool_size=(2, 2, 2), strides=2))\r\n",
    "#(None, 1, 10, 10, 128)\r\n",
    "#shape = model.get_output_shape_at(0)\r\n",
    "#shape=model.layers[0].compute_output_shape((22, 100, 100, 1))\r\n",
    "#model.add(Reshape((shape[-1],shape[1]*shape[2]*shape[3])))\r\n",
    "\r\n",
    "model.add(Reshape((128, 1*10*10)))  \r\n",
    "\r\n",
    "# LSTMS - Recurrent Network Layer\r\n",
    "model.add(LSTM(32, return_sequences=True))\r\n",
    "model.add(Dropout(.5))\r\n",
    "\r\n",
    "model.add((Flatten()))\r\n",
    "\r\n",
    "# # FC layers group\r\n",
    "model.add(Dense(2048, activation='relu'))\r\n",
    "model.add(Dropout(.5))\r\n",
    "model.add(Dense(1024, activation='relu'))\r\n",
    "model.add(Dropout(.5))\r\n",
    "\r\n",
    "#model.add((Flatten()))\r\n",
    "#model.add(Dense(100, activation='relu'))\r\n",
    "\r\n",
    "model.add(Dense(10, activation='softmax'))\r\n",
    "\r\n",
    "model.compile(loss='categorical_crossentropy', optimizer='adam', metrics=['accuracy'])\r\n",
    "\r\n",
    "model.summary()\"\"\""
   ],
   "outputs": [
    {
     "output_type": "error",
     "ename": "SyntaxError",
     "evalue": "invalid syntax (<ipython-input-17-f2b438463ee6>, line 1)",
     "traceback": [
      "\u001b[1;36m  File \u001b[1;32m\"<ipython-input-17-f2b438463ee6>\"\u001b[1;36m, line \u001b[1;32m1\u001b[0m\n\u001b[1;33m    $\u001b[0m\n\u001b[1;37m    ^\u001b[0m\n\u001b[1;31mSyntaxError\u001b[0m\u001b[1;31m:\u001b[0m invalid syntax\n"
     ]
    }
   ],
   "metadata": {}
  },
  {
   "cell_type": "markdown",
   "source": [
    "# Testing Saved Model on Test Set"
   ],
   "metadata": {}
  },
  {
   "cell_type": "code",
   "execution_count": null,
   "source": [
    "from tensorflow import keras\r\n",
    "model_2 = keras.models.load_model('F:/MIRACLE-V1/ALR/complete_saved_model_30e/')"
   ],
   "outputs": [],
   "metadata": {}
  },
  {
   "cell_type": "code",
   "execution_count": null,
   "source": [
    "train_loss, train_acc = model_2.evaluate(X_train,y_train)\r\n",
    "val_loss, val_acc   = model_2.evaluate(X_val,y_val)\r\n",
    "test_loss, test_acc   = model_2.evaluate(X_test,y_test)\r\n",
    "\r\n",
    "print(\"final train accuracy = {:.2f} , validation accuracy = {:.2f} , Test accuracy = {:.2f} \".format(train_acc*100, val_acc*100,test_acc*100))"
   ],
   "outputs": [
    {
     "output_type": "stream",
     "name": "stdout",
     "text": [
      "38/38 [==============================] - 155s 4s/step - loss: 0.0234 - accuracy: 0.9950\n",
      "5/5 [==============================] - 19s 4s/step - loss: 0.5918 - accuracy: 0.8467\n",
      "5/5 [==============================] - 24s 5s/step - loss: 0.4110 - accuracy: 0.9133\n",
      "final train accuracy = 99.50 , validation accuracy = 84.67 , Test accuracy = 91.33 \n"
     ]
    }
   ],
   "metadata": {}
  },
  {
   "cell_type": "code",
   "execution_count": null,
   "source": [
    "words = ['Begin', 'Choose', 'Connection', 'Navigation', 'Next', 'Previous', 'Start', 'Stop', 'Hello', 'Web']\r\n"
   ],
   "outputs": [],
   "metadata": {}
  },
  {
   "cell_type": "code",
   "execution_count": null,
   "source": [
    "ypred = model_2.predict(X_test)\r\n",
    "\r\n",
    "ypred[0]\r\n",
    "\r\n",
    "predicted_words = [words[i] for i in np.argmax(ypred, axis=1)]\r\n",
    "actual_words = [words[i] for i in np.argmax(y_test, axis=1)]\r\n",
    "\r\n",
    "correct = 0\r\n",
    "for p, a in zip(predicted_words, actual_words):\r\n",
    "    if p == a:\r\n",
    "        correct += 1\r\n",
    "#     print(f\"Predicted : {p} \\t Actual : {a}\")\r\n",
    "\r\n",
    "accuracy = correct/len(actual_words)\r\n",
    "print(f\"Accuracy = {accuracy} on completely unseen data\")\r\n"
   ],
   "outputs": [
    {
     "output_type": "stream",
     "name": "stdout",
     "text": [
      "Accuracy = 0.9133333333333333 on completely unseen data\n"
     ]
    }
   ],
   "metadata": {}
  },
  {
   "cell_type": "code",
   "execution_count": null,
   "source": [
    "model_2.evaluate(X_test, y_test)\r\n",
    "\r\n",
    "model_2.metrics_names\r\n",
    "\r\n",
    "my_data = X_test[0]\r\n",
    "my_data.shape\r\n",
    "\r\n",
    "# my_data\r\n",
    "\r\n",
    "X_train[0].shape\r\n",
    "\r\n",
    "my_data = my_data.reshape(1,22,100,100,1)\r\n",
    "\r\n",
    "ans = model_2.predict(my_data)\r\n",
    "np.argmax(ans,)\r\n",
    "\r\n",
    "y_test[0]\r\n"
   ],
   "outputs": [
    {
     "output_type": "stream",
     "name": "stdout",
     "text": [
      "5/5 [==============================] - 17s 3s/step - loss: 0.4110 - accuracy: 0.9133\n"
     ]
    },
    {
     "output_type": "execute_result",
     "data": {
      "text/plain": [
       "array([0., 0., 0., 0., 1., 0., 0., 0., 0., 0.])"
      ]
     },
     "metadata": {},
     "execution_count": 18
    }
   ],
   "metadata": {}
  },
  {
   "cell_type": "code",
   "execution_count": null,
   "source": [
    "from sklearn import preprocessing\r\n",
    "le = preprocessing.LabelEncoder()"
   ],
   "outputs": [],
   "metadata": {}
  },
  {
   "cell_type": "code",
   "execution_count": null,
   "source": [
    "actual_words_le=le.fit_transform(actual_words)\r\n",
    "predicted_words_le=le.transform(predicted_words)"
   ],
   "outputs": [],
   "metadata": {}
  },
  {
   "cell_type": "code",
   "execution_count": null,
   "source": [
    "import pandas as pd"
   ],
   "outputs": [],
   "metadata": {}
  },
  {
   "cell_type": "code",
   "execution_count": null,
   "source": [
    "from sklearn.metrics import classification_report\r\n",
    "\r\n",
    "target_names = words\r\n",
    "\r\n",
    "clsf_report = pd.DataFrame(classification_report(y_true = actual_words_le, y_pred = predicted_words_le, \r\n",
    "                                                target_names=target_names,output_dict=True)).transpose()"
   ],
   "outputs": [],
   "metadata": {}
  },
  {
   "cell_type": "code",
   "execution_count": null,
   "source": [
    "clsf_report.style.background_gradient(cmap='viridis',)"
   ],
   "outputs": [
    {
     "output_type": "execute_result",
     "data": {
      "text/plain": [
       "<pandas.io.formats.style.Styler at 0x25fe888f2e0>"
      ],
      "text/html": [
       "<style  type=\"text/css\" >\n",
       "#T_d17e4ef6_cf58_11ec_b79d_8c47be1b292crow0_col0,#T_d17e4ef6_cf58_11ec_b79d_8c47be1b292crow8_col0{\n",
       "            background-color:  #365d8d;\n",
       "            color:  #f1f1f1;\n",
       "        }#T_d17e4ef6_cf58_11ec_b79d_8c47be1b292crow0_col1,#T_d17e4ef6_cf58_11ec_b79d_8c47be1b292crow3_col1,#T_d17e4ef6_cf58_11ec_b79d_8c47be1b292crow8_col1{\n",
       "            background-color:  #35b779;\n",
       "            color:  #000000;\n",
       "        }#T_d17e4ef6_cf58_11ec_b79d_8c47be1b292crow0_col2,#T_d17e4ef6_cf58_11ec_b79d_8c47be1b292crow8_col2{\n",
       "            background-color:  #32658e;\n",
       "            color:  #f1f1f1;\n",
       "        }#T_d17e4ef6_cf58_11ec_b79d_8c47be1b292crow0_col3,#T_d17e4ef6_cf58_11ec_b79d_8c47be1b292crow1_col3,#T_d17e4ef6_cf58_11ec_b79d_8c47be1b292crow2_col3,#T_d17e4ef6_cf58_11ec_b79d_8c47be1b292crow3_col3,#T_d17e4ef6_cf58_11ec_b79d_8c47be1b292crow4_col3,#T_d17e4ef6_cf58_11ec_b79d_8c47be1b292crow5_col3,#T_d17e4ef6_cf58_11ec_b79d_8c47be1b292crow6_col3,#T_d17e4ef6_cf58_11ec_b79d_8c47be1b292crow7_col3,#T_d17e4ef6_cf58_11ec_b79d_8c47be1b292crow8_col3,#T_d17e4ef6_cf58_11ec_b79d_8c47be1b292crow9_col3{\n",
       "            background-color:  #482374;\n",
       "            color:  #f1f1f1;\n",
       "        }#T_d17e4ef6_cf58_11ec_b79d_8c47be1b292crow1_col0,#T_d17e4ef6_cf58_11ec_b79d_8c47be1b292crow5_col0{\n",
       "            background-color:  #22a785;\n",
       "            color:  #000000;\n",
       "        }#T_d17e4ef6_cf58_11ec_b79d_8c47be1b292crow1_col1,#T_d17e4ef6_cf58_11ec_b79d_8c47be1b292crow5_col1,#T_d17e4ef6_cf58_11ec_b79d_8c47be1b292crow7_col0{\n",
       "            background-color:  #31688e;\n",
       "            color:  #f1f1f1;\n",
       "        }#T_d17e4ef6_cf58_11ec_b79d_8c47be1b292crow1_col2,#T_d17e4ef6_cf58_11ec_b79d_8c47be1b292crow5_col2{\n",
       "            background-color:  #38598c;\n",
       "            color:  #f1f1f1;\n",
       "        }#T_d17e4ef6_cf58_11ec_b79d_8c47be1b292crow2_col0{\n",
       "            background-color:  #2eb37c;\n",
       "            color:  #000000;\n",
       "        }#T_d17e4ef6_cf58_11ec_b79d_8c47be1b292crow2_col1,#T_d17e4ef6_cf58_11ec_b79d_8c47be1b292crow4_col0,#T_d17e4ef6_cf58_11ec_b79d_8c47be1b292crow4_col1,#T_d17e4ef6_cf58_11ec_b79d_8c47be1b292crow4_col2,#T_d17e4ef6_cf58_11ec_b79d_8c47be1b292crow7_col1,#T_d17e4ef6_cf58_11ec_b79d_8c47be1b292crow9_col0,#T_d17e4ef6_cf58_11ec_b79d_8c47be1b292crow11_col3,#T_d17e4ef6_cf58_11ec_b79d_8c47be1b292crow12_col3{\n",
       "            background-color:  #fde725;\n",
       "            color:  #000000;\n",
       "        }#T_d17e4ef6_cf58_11ec_b79d_8c47be1b292crow2_col2{\n",
       "            background-color:  #6ccd5a;\n",
       "            color:  #000000;\n",
       "        }#T_d17e4ef6_cf58_11ec_b79d_8c47be1b292crow3_col0,#T_d17e4ef6_cf58_11ec_b79d_8c47be1b292crow6_col1,#T_d17e4ef6_cf58_11ec_b79d_8c47be1b292crow6_col2,#T_d17e4ef6_cf58_11ec_b79d_8c47be1b292crow9_col1,#T_d17e4ef6_cf58_11ec_b79d_8c47be1b292crow10_col3{\n",
       "            background-color:  #440154;\n",
       "            color:  #f1f1f1;\n",
       "        }#T_d17e4ef6_cf58_11ec_b79d_8c47be1b292crow3_col2{\n",
       "            background-color:  #472c7a;\n",
       "            color:  #f1f1f1;\n",
       "        }#T_d17e4ef6_cf58_11ec_b79d_8c47be1b292crow6_col0,#T_d17e4ef6_cf58_11ec_b79d_8c47be1b292crow7_col2{\n",
       "            background-color:  #1fa088;\n",
       "            color:  #000000;\n",
       "        }#T_d17e4ef6_cf58_11ec_b79d_8c47be1b292crow9_col2{\n",
       "            background-color:  #3e4989;\n",
       "            color:  #f1f1f1;\n",
       "        }#T_d17e4ef6_cf58_11ec_b79d_8c47be1b292crow10_col0{\n",
       "            background-color:  #20928c;\n",
       "            color:  #000000;\n",
       "        }#T_d17e4ef6_cf58_11ec_b79d_8c47be1b292crow10_col1,#T_d17e4ef6_cf58_11ec_b79d_8c47be1b292crow11_col1,#T_d17e4ef6_cf58_11ec_b79d_8c47be1b292crow12_col1{\n",
       "            background-color:  #1fa188;\n",
       "            color:  #000000;\n",
       "        }#T_d17e4ef6_cf58_11ec_b79d_8c47be1b292crow10_col2{\n",
       "            background-color:  #2a768e;\n",
       "            color:  #f1f1f1;\n",
       "        }#T_d17e4ef6_cf58_11ec_b79d_8c47be1b292crow11_col0,#T_d17e4ef6_cf58_11ec_b79d_8c47be1b292crow12_col0{\n",
       "            background-color:  #1f988b;\n",
       "            color:  #000000;\n",
       "        }#T_d17e4ef6_cf58_11ec_b79d_8c47be1b292crow11_col2,#T_d17e4ef6_cf58_11ec_b79d_8c47be1b292crow12_col2{\n",
       "            background-color:  #2b758e;\n",
       "            color:  #f1f1f1;\n",
       "        }</style><table id=\"T_d17e4ef6_cf58_11ec_b79d_8c47be1b292c\" ><thead>    <tr>        <th class=\"blank level0\" ></th>        <th class=\"col_heading level0 col0\" >precision</th>        <th class=\"col_heading level0 col1\" >recall</th>        <th class=\"col_heading level0 col2\" >f1-score</th>        <th class=\"col_heading level0 col3\" >support</th>    </tr></thead><tbody>\n",
       "                <tr>\n",
       "                        <th id=\"T_d17e4ef6_cf58_11ec_b79d_8c47be1b292clevel0_row0\" class=\"row_heading level0 row0\" >Begin</th>\n",
       "                        <td id=\"T_d17e4ef6_cf58_11ec_b79d_8c47be1b292crow0_col0\" class=\"data row0 col0\" >0.875000</td>\n",
       "                        <td id=\"T_d17e4ef6_cf58_11ec_b79d_8c47be1b292crow0_col1\" class=\"data row0 col1\" >0.933333</td>\n",
       "                        <td id=\"T_d17e4ef6_cf58_11ec_b79d_8c47be1b292crow0_col2\" class=\"data row0 col2\" >0.903226</td>\n",
       "                        <td id=\"T_d17e4ef6_cf58_11ec_b79d_8c47be1b292crow0_col3\" class=\"data row0 col3\" >15.000000</td>\n",
       "            </tr>\n",
       "            <tr>\n",
       "                        <th id=\"T_d17e4ef6_cf58_11ec_b79d_8c47be1b292clevel0_row1\" class=\"row_heading level0 row1\" >Choose</th>\n",
       "                        <td id=\"T_d17e4ef6_cf58_11ec_b79d_8c47be1b292crow1_col0\" class=\"data row1 col0\" >0.928571</td>\n",
       "                        <td id=\"T_d17e4ef6_cf58_11ec_b79d_8c47be1b292crow1_col1\" class=\"data row1 col1\" >0.866667</td>\n",
       "                        <td id=\"T_d17e4ef6_cf58_11ec_b79d_8c47be1b292crow1_col2\" class=\"data row1 col2\" >0.896552</td>\n",
       "                        <td id=\"T_d17e4ef6_cf58_11ec_b79d_8c47be1b292crow1_col3\" class=\"data row1 col3\" >15.000000</td>\n",
       "            </tr>\n",
       "            <tr>\n",
       "                        <th id=\"T_d17e4ef6_cf58_11ec_b79d_8c47be1b292clevel0_row2\" class=\"row_heading level0 row2\" >Connection</th>\n",
       "                        <td id=\"T_d17e4ef6_cf58_11ec_b79d_8c47be1b292crow2_col0\" class=\"data row2 col0\" >0.937500</td>\n",
       "                        <td id=\"T_d17e4ef6_cf58_11ec_b79d_8c47be1b292crow2_col1\" class=\"data row2 col1\" >1.000000</td>\n",
       "                        <td id=\"T_d17e4ef6_cf58_11ec_b79d_8c47be1b292crow2_col2\" class=\"data row2 col2\" >0.967742</td>\n",
       "                        <td id=\"T_d17e4ef6_cf58_11ec_b79d_8c47be1b292crow2_col3\" class=\"data row2 col3\" >15.000000</td>\n",
       "            </tr>\n",
       "            <tr>\n",
       "                        <th id=\"T_d17e4ef6_cf58_11ec_b79d_8c47be1b292clevel0_row3\" class=\"row_heading level0 row3\" >Navigation</th>\n",
       "                        <td id=\"T_d17e4ef6_cf58_11ec_b79d_8c47be1b292crow3_col0\" class=\"data row3 col0\" >0.823529</td>\n",
       "                        <td id=\"T_d17e4ef6_cf58_11ec_b79d_8c47be1b292crow3_col1\" class=\"data row3 col1\" >0.933333</td>\n",
       "                        <td id=\"T_d17e4ef6_cf58_11ec_b79d_8c47be1b292crow3_col2\" class=\"data row3 col2\" >0.875000</td>\n",
       "                        <td id=\"T_d17e4ef6_cf58_11ec_b79d_8c47be1b292crow3_col3\" class=\"data row3 col3\" >15.000000</td>\n",
       "            </tr>\n",
       "            <tr>\n",
       "                        <th id=\"T_d17e4ef6_cf58_11ec_b79d_8c47be1b292clevel0_row4\" class=\"row_heading level0 row4\" >Next</th>\n",
       "                        <td id=\"T_d17e4ef6_cf58_11ec_b79d_8c47be1b292crow4_col0\" class=\"data row4 col0\" >1.000000</td>\n",
       "                        <td id=\"T_d17e4ef6_cf58_11ec_b79d_8c47be1b292crow4_col1\" class=\"data row4 col1\" >1.000000</td>\n",
       "                        <td id=\"T_d17e4ef6_cf58_11ec_b79d_8c47be1b292crow4_col2\" class=\"data row4 col2\" >1.000000</td>\n",
       "                        <td id=\"T_d17e4ef6_cf58_11ec_b79d_8c47be1b292crow4_col3\" class=\"data row4 col3\" >15.000000</td>\n",
       "            </tr>\n",
       "            <tr>\n",
       "                        <th id=\"T_d17e4ef6_cf58_11ec_b79d_8c47be1b292clevel0_row5\" class=\"row_heading level0 row5\" >Previous</th>\n",
       "                        <td id=\"T_d17e4ef6_cf58_11ec_b79d_8c47be1b292crow5_col0\" class=\"data row5 col0\" >0.928571</td>\n",
       "                        <td id=\"T_d17e4ef6_cf58_11ec_b79d_8c47be1b292crow5_col1\" class=\"data row5 col1\" >0.866667</td>\n",
       "                        <td id=\"T_d17e4ef6_cf58_11ec_b79d_8c47be1b292crow5_col2\" class=\"data row5 col2\" >0.896552</td>\n",
       "                        <td id=\"T_d17e4ef6_cf58_11ec_b79d_8c47be1b292crow5_col3\" class=\"data row5 col3\" >15.000000</td>\n",
       "            </tr>\n",
       "            <tr>\n",
       "                        <th id=\"T_d17e4ef6_cf58_11ec_b79d_8c47be1b292clevel0_row6\" class=\"row_heading level0 row6\" >Start</th>\n",
       "                        <td id=\"T_d17e4ef6_cf58_11ec_b79d_8c47be1b292crow6_col0\" class=\"data row6 col0\" >0.923077</td>\n",
       "                        <td id=\"T_d17e4ef6_cf58_11ec_b79d_8c47be1b292crow6_col1\" class=\"data row6 col1\" >0.800000</td>\n",
       "                        <td id=\"T_d17e4ef6_cf58_11ec_b79d_8c47be1b292crow6_col2\" class=\"data row6 col2\" >0.857143</td>\n",
       "                        <td id=\"T_d17e4ef6_cf58_11ec_b79d_8c47be1b292crow6_col3\" class=\"data row6 col3\" >15.000000</td>\n",
       "            </tr>\n",
       "            <tr>\n",
       "                        <th id=\"T_d17e4ef6_cf58_11ec_b79d_8c47be1b292clevel0_row7\" class=\"row_heading level0 row7\" >Stop</th>\n",
       "                        <td id=\"T_d17e4ef6_cf58_11ec_b79d_8c47be1b292crow7_col0\" class=\"data row7 col0\" >0.882353</td>\n",
       "                        <td id=\"T_d17e4ef6_cf58_11ec_b79d_8c47be1b292crow7_col1\" class=\"data row7 col1\" >1.000000</td>\n",
       "                        <td id=\"T_d17e4ef6_cf58_11ec_b79d_8c47be1b292crow7_col2\" class=\"data row7 col2\" >0.937500</td>\n",
       "                        <td id=\"T_d17e4ef6_cf58_11ec_b79d_8c47be1b292crow7_col3\" class=\"data row7 col3\" >15.000000</td>\n",
       "            </tr>\n",
       "            <tr>\n",
       "                        <th id=\"T_d17e4ef6_cf58_11ec_b79d_8c47be1b292clevel0_row8\" class=\"row_heading level0 row8\" >Hello</th>\n",
       "                        <td id=\"T_d17e4ef6_cf58_11ec_b79d_8c47be1b292crow8_col0\" class=\"data row8 col0\" >0.875000</td>\n",
       "                        <td id=\"T_d17e4ef6_cf58_11ec_b79d_8c47be1b292crow8_col1\" class=\"data row8 col1\" >0.933333</td>\n",
       "                        <td id=\"T_d17e4ef6_cf58_11ec_b79d_8c47be1b292crow8_col2\" class=\"data row8 col2\" >0.903226</td>\n",
       "                        <td id=\"T_d17e4ef6_cf58_11ec_b79d_8c47be1b292crow8_col3\" class=\"data row8 col3\" >15.000000</td>\n",
       "            </tr>\n",
       "            <tr>\n",
       "                        <th id=\"T_d17e4ef6_cf58_11ec_b79d_8c47be1b292clevel0_row9\" class=\"row_heading level0 row9\" >Web</th>\n",
       "                        <td id=\"T_d17e4ef6_cf58_11ec_b79d_8c47be1b292crow9_col0\" class=\"data row9 col0\" >1.000000</td>\n",
       "                        <td id=\"T_d17e4ef6_cf58_11ec_b79d_8c47be1b292crow9_col1\" class=\"data row9 col1\" >0.800000</td>\n",
       "                        <td id=\"T_d17e4ef6_cf58_11ec_b79d_8c47be1b292crow9_col2\" class=\"data row9 col2\" >0.888889</td>\n",
       "                        <td id=\"T_d17e4ef6_cf58_11ec_b79d_8c47be1b292crow9_col3\" class=\"data row9 col3\" >15.000000</td>\n",
       "            </tr>\n",
       "            <tr>\n",
       "                        <th id=\"T_d17e4ef6_cf58_11ec_b79d_8c47be1b292clevel0_row10\" class=\"row_heading level0 row10\" >accuracy</th>\n",
       "                        <td id=\"T_d17e4ef6_cf58_11ec_b79d_8c47be1b292crow10_col0\" class=\"data row10 col0\" >0.913333</td>\n",
       "                        <td id=\"T_d17e4ef6_cf58_11ec_b79d_8c47be1b292crow10_col1\" class=\"data row10 col1\" >0.913333</td>\n",
       "                        <td id=\"T_d17e4ef6_cf58_11ec_b79d_8c47be1b292crow10_col2\" class=\"data row10 col2\" >0.913333</td>\n",
       "                        <td id=\"T_d17e4ef6_cf58_11ec_b79d_8c47be1b292crow10_col3\" class=\"data row10 col3\" >0.913333</td>\n",
       "            </tr>\n",
       "            <tr>\n",
       "                        <th id=\"T_d17e4ef6_cf58_11ec_b79d_8c47be1b292clevel0_row11\" class=\"row_heading level0 row11\" >macro avg</th>\n",
       "                        <td id=\"T_d17e4ef6_cf58_11ec_b79d_8c47be1b292crow11_col0\" class=\"data row11 col0\" >0.917360</td>\n",
       "                        <td id=\"T_d17e4ef6_cf58_11ec_b79d_8c47be1b292crow11_col1\" class=\"data row11 col1\" >0.913333</td>\n",
       "                        <td id=\"T_d17e4ef6_cf58_11ec_b79d_8c47be1b292crow11_col2\" class=\"data row11 col2\" >0.912583</td>\n",
       "                        <td id=\"T_d17e4ef6_cf58_11ec_b79d_8c47be1b292crow11_col3\" class=\"data row11 col3\" >150.000000</td>\n",
       "            </tr>\n",
       "            <tr>\n",
       "                        <th id=\"T_d17e4ef6_cf58_11ec_b79d_8c47be1b292clevel0_row12\" class=\"row_heading level0 row12\" >weighted avg</th>\n",
       "                        <td id=\"T_d17e4ef6_cf58_11ec_b79d_8c47be1b292crow12_col0\" class=\"data row12 col0\" >0.917360</td>\n",
       "                        <td id=\"T_d17e4ef6_cf58_11ec_b79d_8c47be1b292crow12_col1\" class=\"data row12 col1\" >0.913333</td>\n",
       "                        <td id=\"T_d17e4ef6_cf58_11ec_b79d_8c47be1b292crow12_col2\" class=\"data row12 col2\" >0.912583</td>\n",
       "                        <td id=\"T_d17e4ef6_cf58_11ec_b79d_8c47be1b292crow12_col3\" class=\"data row12 col3\" >150.000000</td>\n",
       "            </tr>\n",
       "    </tbody></table>"
      ]
     },
     "metadata": {},
     "execution_count": 23
    }
   ],
   "metadata": {}
  },
  {
   "cell_type": "code",
   "execution_count": null,
   "source": [
    "import seaborn as sns\r\n",
    "import matplotlib.pyplot as plt  "
   ],
   "outputs": [],
   "metadata": {}
  },
  {
   "cell_type": "code",
   "execution_count": null,
   "source": [
    "from sklearn.metrics import confusion_matrix\r\n",
    "\r\n",
    "conf_matrix=confusion_matrix(actual_words_le, predicted_words_le)\r\n",
    "\r\n",
    "# Creating a dataframe for a array-formatted Confusion matrix,so it will be easy for plotting.\r\n",
    "cm_df = pd.DataFrame(conf_matrix,\r\n",
    "                     index = words, \r\n",
    "                     columns = words)\r\n",
    "#Plotting the confusion matrix\r\n",
    "plt.figure(figsize=(10,10))\r\n",
    "sns.heatmap(cm_df, annot=True)\r\n",
    "plt.title('Confusion Matrix for Uttered Word ( Epochs= 30 )')\r\n",
    "plt.ylabel('Actal Values')\r\n",
    "plt.xlabel('Predicted Values')\r\n",
    "plt.show()"
   ],
   "outputs": [
    {
     "output_type": "display_data",
     "data": {
      "text/plain": [
       "<Figure size 720x720 with 2 Axes>"
      ],
      "image/png": "[encoded data removed]"
     },
     "metadata": {
      "needs_background": "light"
     }
    }
   ],
   "metadata": {}
  },
  {
   "cell_type": "code",
   "execution_count": null,
   "source": [
    "# Commented out IPython magic to ensure Python compatibility.\r\n",
    "#Model Saving\r\n",
    "# %pwd\r\n",
    "\r\n",
    "# model.save_weights('saved_model/')\r\n",
    "\r\n",
    "#model.save('complete_saved_model_15e')"
   ],
   "outputs": [
    {
     "output_type": "stream",
     "name": "stderr",
     "text": [
      "WARNING:absl:Found untraced functions such as lstm_cell_layer_call_fn, lstm_cell_layer_call_and_return_conditional_losses, lstm_cell_layer_call_fn, lstm_cell_layer_call_and_return_conditional_losses, lstm_cell_layer_call_and_return_conditional_losses while saving (showing 5 of 5). These functions will not be directly callable after loading.\n",
      "WARNING:absl:Found untraced functions such as lstm_cell_layer_call_fn, lstm_cell_layer_call_and_return_conditional_losses, lstm_cell_layer_call_fn, lstm_cell_layer_call_and_return_conditional_losses, lstm_cell_layer_call_and_return_conditional_losses while saving (showing 5 of 5). These functions will not be directly callable after loading.\n"
     ]
    },
    {
     "output_type": "stream",
     "name": "stdout",
     "text": [
      "INFO:tensorflow:Assets written to: complete_saved_model_10e\\assets\n"
     ]
    },
    {
     "output_type": "stream",
     "name": "stderr",
     "text": [
      "INFO:tensorflow:Assets written to: complete_saved_model_10e\\assets\n"
     ]
    }
   ],
   "metadata": {}
  }
 ],
 "metadata": {
  "orig_nbformat": 4,
  "language_info": {
   "name": "python",
   "version": "3.8.5",
   "mimetype": "text/x-python",
   "codemirror_mode": {
    "name": "ipython",
    "version": 3
   },
   "pygments_lexer": "ipython3",
   "nbconvert_exporter": "python",
   "file_extension": ".py"
  },
  "kernelspec": {
   "name": "python3",
   "display_name": "Python 3.8.5 64-bit (conda)"
  },
  "interpreter": {
   "hash": "b64de0ba76e769a7c3088015f258876bdb4240a199c36c507f14d2fb10bd5d74"
  }
 },
 "nbformat": 4,
 "nbformat_minor": 2
}